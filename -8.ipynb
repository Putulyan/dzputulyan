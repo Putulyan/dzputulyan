{
  "nbformat": 4,
  "nbformat_minor": 0,
  "metadata": {
    "colab": {
      "provenance": [],
      "authorship_tag": "ABX9TyNhuMX8crl2GxrVG4HfU+qO",
      "include_colab_link": true
    },
    "kernelspec": {
      "name": "python3",
      "display_name": "Python 3"
    },
    "language_info": {
      "name": "python"
    }
  },
  "cells": [
    {
      "cell_type": "markdown",
      "metadata": {
        "id": "view-in-github",
        "colab_type": "text"
      },
      "source": [
        "<a href=\"https://colab.research.google.com/gist/Valekvlg/fd96b4d8d1c3f782dab24fabf2e59d08/-8.ipynb\" target=\"_parent\"><img src=\"https://colab.research.google.com/assets/colab-badge.svg\" alt=\"Open In Colab\"/></a>"
      ]
    },
    {
      "cell_type": "markdown",
      "source": [
        "Задание 1. Получение данных из публичного API (JSONPlaceholder)"
      ],
      "metadata": {
        "id": "cN9pMVuI0fZ6"
      }
    },
    {
      "cell_type": "code",
      "source": [
        "import requests\n",
        "\n",
        "# URL для получения постов\n",
        "url = 'https://jsonplaceholder.typicode.com/posts'\n",
        "\n",
        "# Отправка GET-запроса\n",
        "response = requests.get(url)\n",
        "\n",
        "# Проверка статуса ответа\n",
        "if response.status_code == 200:\n",
        "    # Преобразование ответа в JSON\n",
        "    posts = response.json()\n",
        "\n",
        "    # Вывод заголовков и тел первых 5 постов\n",
        "    for post in posts[:5]:\n",
        "        print(f\"Заголовок: {post['title']}\")\n",
        "        print(f\"Тело: {post['body']}\")\n",
        "        print('-' * 40)\n",
        "else:\n",
        "    print(f\"Ошибка: {response.status_code}\")"
      ],
      "metadata": {
        "colab": {
          "base_uri": "https://localhost:8080/"
        },
        "id": "RDQzfNnf0gho",
        "outputId": "f4438eed-4311-47e7-d89d-f0e84f8f824a"
      },
      "execution_count": 1,
      "outputs": [
        {
          "output_type": "stream",
          "name": "stdout",
          "text": [
            "Заголовок: sunt aut facere repellat provident occaecati excepturi optio reprehenderit\n",
            "Тело: quia et suscipit\n",
            "suscipit recusandae consequuntur expedita et cum\n",
            "reprehenderit molestiae ut ut quas totam\n",
            "nostrum rerum est autem sunt rem eveniet architecto\n",
            "----------------------------------------\n",
            "Заголовок: qui est esse\n",
            "Тело: est rerum tempore vitae\n",
            "sequi sint nihil reprehenderit dolor beatae ea dolores neque\n",
            "fugiat blanditiis voluptate porro vel nihil molestiae ut reiciendis\n",
            "qui aperiam non debitis possimus qui neque nisi nulla\n",
            "----------------------------------------\n",
            "Заголовок: ea molestias quasi exercitationem repellat qui ipsa sit aut\n",
            "Тело: et iusto sed quo iure\n",
            "voluptatem occaecati omnis eligendi aut ad\n",
            "voluptatem doloribus vel accusantium quis pariatur\n",
            "molestiae porro eius odio et labore et velit aut\n",
            "----------------------------------------\n",
            "Заголовок: eum et est occaecati\n",
            "Тело: ullam et saepe reiciendis voluptatem adipisci\n",
            "sit amet autem assumenda provident rerum culpa\n",
            "quis hic commodi nesciunt rem tenetur doloremque ipsam iure\n",
            "quis sunt voluptatem rerum illo velit\n",
            "----------------------------------------\n",
            "Заголовок: nesciunt quas odio\n",
            "Тело: repudiandae veniam quaerat sunt sed\n",
            "alias aut fugiat sit autem sed est\n",
            "voluptatem omnis possimus esse voluptatibus quis\n",
            "est aut tenetur dolor neque\n",
            "----------------------------------------\n"
          ]
        }
      ]
    },
    {
      "cell_type": "markdown",
      "source": [
        "Задание 2. Работа с параметрами запроса (OpenWeather API)"
      ],
      "metadata": {
        "id": "UHm4Ewgw0sb1"
      }
    },
    {
      "cell_type": "code",
      "source": [
        "import requests\n",
        "\n",
        "# API ключ от OpenWeather\n",
        "api_key = '12750ae64c3bf382f8a397fc8ba8bcd4'\n",
        "\n",
        "# Город\n",
        "city = 'Волгоград'\n",
        "\n",
        "# URL для запроса погоды\n",
        "url = f'http://api.openweathermap.org/data/2.5/weather?q={city}&appid={api_key}&units=metric'\n",
        "\n",
        "# Отправка GET-запроса\n",
        "response = requests.get(url)\n",
        "\n",
        "# Проверка статуса ответа\n",
        "if response.status_code == 200:\n",
        "    # Преобразование ответа в JSON\n",
        "    weather_data = response.json()\n",
        "\n",
        "    # Извлечение и вывод данных о погоде\n",
        "    temperature = weather_data['main']['temp']\n",
        "    description = weather_data['weather'][0]['description']\n",
        "\n",
        "    print(f\"Текущая температура в {city}: {temperature}°C\")\n",
        "    print(f\"Описание погоды: {description}\")\n",
        "else:\n",
        "    print(f\"Ошибка: {response.status_code}\")"
      ],
      "metadata": {
        "colab": {
          "base_uri": "https://localhost:8080/"
        },
        "id": "Wkh7zG4W0v0Y",
        "outputId": "a2b0b0cd-481e-4b66-ec8b-e37a5b5201bd"
      },
      "execution_count": 2,
      "outputs": [
        {
          "output_type": "stream",
          "name": "stdout",
          "text": [
            "Текущая температура в Волгоград: -2.57°C\n",
            "Описание погоды: scattered clouds\n"
          ]
        }
      ]
    }
  ]
}